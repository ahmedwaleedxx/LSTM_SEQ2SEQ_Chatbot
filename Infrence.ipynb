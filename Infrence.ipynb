{
  "cells": [
    {
      "cell_type": "code",
      "execution_count": 2,
      "metadata": {
        "id": "AzReumJG_n0B"
      },
      "outputs": [],
      "source": [
        "from tensorflow.keras.models import load_model\n",
        "import numpy as np\n",
        "import tensorflow as tf\n",
        "import pickle\n",
        "import re\n",
        "from tensorflow.keras import layers , activations , models , preprocessing"
      ]
    },
    {
      "cell_type": "code",
      "execution_count": 3,
      "metadata": {
        "id": "2aG3LmrhGved"
      },
      "outputs": [],
      "source": [
        "with open('tokenizer.pkl', 'rb') as f:\n",
        "    tokenizer = pickle.load(f)"
      ]
    },
    {
      "cell_type": "code",
      "execution_count": 4,
      "metadata": {
        "colab": {
          "base_uri": "https://localhost:8080/"
        },
        "id": "BMIWQXOl_vrV",
        "outputId": "129d4c58-97fa-4f7f-a3a6-7274bbcbcde8"
      },
      "outputs": [
        {
          "name": "stdout",
          "output_type": "stream",
          "text": [
            "Model: \"model\"\n",
            "__________________________________________________________________________________________________\n",
            " Layer (type)                   Output Shape         Param #     Connected to                     \n",
            "==================================================================================================\n",
            " input_1 (InputLayer)           [(None, 13)]         0           []                               \n",
            "                                                                                                  \n",
            " input_2 (InputLayer)           [(None, 85)]         0           []                               \n",
            "                                                                                                  \n",
            " embedding (Embedding)          (None, 13, 200)      289600      ['input_1[0][0]']                \n",
            "                                                                                                  \n",
            " embedding_1 (Embedding)        (None, 85, 200)      289600      ['input_2[0][0]']                \n",
            "                                                                                                  \n",
            " lstm (LSTM)                    [(None, 200),        320800      ['embedding[0][0]']              \n",
            "                                 (None, 200),                                                     \n",
            "                                 (None, 200)]                                                     \n",
            "                                                                                                  \n",
            " lstm_1 (LSTM)                  [(None, 85, 200),    320800      ['embedding_1[0][0]',            \n",
            "                                 (None, 200),                     'lstm[0][1]',                   \n",
            "                                 (None, 200)]                     'lstm[0][2]']                   \n",
            "                                                                                                  \n",
            " dense (Dense)                  (None, 85, 1448)     291048      ['lstm_1[0][0]']                 \n",
            "                                                                                                  \n",
            "==================================================================================================\n",
            "Total params: 1,511,848\n",
            "Trainable params: 1,511,848\n",
            "Non-trainable params: 0\n",
            "__________________________________________________________________________________________________\n"
          ]
        }
      ],
      "source": [
        "model = load_model('LSTM_SEQ2SEQ_Chatbot.h5')\n",
        "model.summary()"
      ]
    },
    {
      "cell_type": "code",
      "execution_count": 5,
      "metadata": {
        "id": "n0oRteo9FGfp"
      },
      "outputs": [],
      "source": [
        "def make_inference_models():\n",
        "    \n",
        "    # Encoder model\n",
        "    encoder_inputs = tf.keras.layers.Input(shape=(None,))\n",
        "    encoder_embeddings = model.layers[2](encoder_inputs)\n",
        "    encoder_lstm = model.layers[4]\n",
        "    _, state_h_enc, state_c_enc = encoder_lstm(encoder_embeddings)\n",
        "    encoder_states = [state_h_enc, state_c_enc]\n",
        "    encoder_model = tf.keras.models.Model(encoder_inputs, encoder_states)\n",
        "    \n",
        "    # Decoder model\n",
        "    decoder_inputs = tf.keras.layers.Input(shape=(None,))\n",
        "    decoder_embeddings = model.layers[3](decoder_inputs)\n",
        "    decoder_lstm = model.layers[5]\n",
        "    decoder_dense = model.layers[6]\n",
        "    decoder_state_input_h = tf.keras.layers.Input(shape=(200,))\n",
        "    decoder_state_input_c = tf.keras.layers.Input(shape=(200,))\n",
        "    decoder_states_inputs = [decoder_state_input_h, decoder_state_input_c]\n",
        "    decoder_outputs, state_h_dec, state_c_dec = decoder_lstm(\n",
        "        decoder_embeddings, initial_state=decoder_states_inputs)\n",
        "    decoder_states = [state_h_dec, state_c_dec]\n",
        "    decoder_outputs = decoder_dense(decoder_outputs)\n",
        "    decoder_model = tf.keras.models.Model([decoder_inputs] + decoder_states_inputs,\n",
        "                          [decoder_outputs] + decoder_states)\n",
        "    \n",
        "    return encoder_model, decoder_model\n"
      ]
    },
    {
      "cell_type": "code",
      "execution_count": 6,
      "metadata": {
        "id": "cFqyplKHAajv"
      },
      "outputs": [],
      "source": [
        "def str_to_tokens( sentence : str ):\n",
        "    words = sentence.lower().split()\n",
        "    tokens_list = list()\n",
        "    for word in words:\n",
        "        tokens_list.append( tokenizer.word_index[ word ] ) \n",
        "    return preprocessing.sequence.pad_sequences( [tokens_list] , maxlen=13 , padding='post')"
      ]
    },
    {
      "cell_type": "code",
      "execution_count": 6,
      "metadata": {
        "colab": {
          "base_uri": "https://localhost:8080/",
          "height": 470
        },
        "id": "EgfnwQdEAn2l",
        "outputId": "7a786231-c2f3-4c3c-da5c-0b1616426376"
      },
      "outputs": [],
      "source": [
        "# enc_model , dec_model = make_inference_models()\n",
        "# user_input = input('Enter question: ')\n",
        "# user_input = re.sub(r'[^\\w\\s]', '', user_input)  # Remove any special characters\n",
        "# states_values = enc_model.predict(str_to_tokens(user_input), verbose=0)\n",
        "# empty_target_seq = np.zeros( ( 1 , 1 ) )\n",
        "# empty_target_seq[0, 0] = tokenizer.word_index['start']\n",
        "# stop_condition = False\n",
        "# decoded_translation = ''\n",
        "# while not stop_condition :\n",
        "#     dec_outputs , h , c =dec_model.predict([ empty_target_seq ] + states_values,verbose=0 )\n",
        "#     sampled_word_index = np.argmax( dec_outputs[0, -1, :] )\n",
        "#     sampled_word = None\n",
        "#     for word , index in tokenizer.word_index.items() :\n",
        "#         if sampled_word_index == index :\n",
        "#             decoded_translation += ' {}'.format( word )\n",
        "#             sampled_word = word\n",
        "    \n",
        "#     if sampled_word == 'end' or len(decoded_translation.split()) > 85:\n",
        "#         stop_condition = True\n",
        "        \n",
        "#     empty_target_seq = np.zeros( ( 1 , 1 ) )  \n",
        "#     empty_target_seq[ 0 , 0 ] = sampled_word_index\n",
        "#     states_values = [ h , c ] \n",
        "\n",
        "#     print( decoded_translation[:-3] )"
      ]
    },
    {
      "cell_type": "code",
      "execution_count": 7,
      "metadata": {},
      "outputs": [
        {
          "ename": "SyntaxError",
          "evalue": "invalid syntax (1871996431.py, line 27)",
          "output_type": "error",
          "traceback": [
            "\u001b[1;36m  Cell \u001b[1;32mIn[7], line 27\u001b[1;36m\u001b[0m\n\u001b[1;33m    if(decoded_translation[index] < 0.5)\u001b[0m\n\u001b[1;37m                                        ^\u001b[0m\n\u001b[1;31mSyntaxError\u001b[0m\u001b[1;31m:\u001b[0m invalid syntax\n"
          ]
        }
      ],
      "source": [
        "enc_model , dec_model = make_inference_models()\n",
        "for _ in range(10):\n",
        "    user_input = input('Enter question: ')\n",
        "    user_input = re.sub(r'[^\\w\\s]', '', user_input)  # Remove any special characters\n",
        "    # if not all(word in tokenizer.word_index for word in user_input.split()):\n",
        "    #     print(\"Please enter a question with words that are in the model's vocabulary.\")\n",
        "    states_values = enc_model.predict(str_to_tokens(user_input), verbose=0)\n",
        "    empty_target_seq = np.zeros( ( 1 , 1 ) )\n",
        "    empty_target_seq[0, 0] = tokenizer.word_index['start']\n",
        "    stop_condition = False\n",
        "    decoded_translation = ''\n",
        "    while not stop_condition :\n",
        "        dec_outputs , h , c =dec_model.predict([ empty_target_seq ] + states_values,verbose=0 )\n",
        "        sampled_word_index = np.argmax( dec_outputs[0, -1, :] )\n",
        "        sampled_word = None\n",
        "        for word , index in tokenizer.word_index.items() :\n",
        "            if sampled_word_index == index :\n",
        "                decoded_translation += ' {}'.format( word )\n",
        "                sampled_word = word\n",
        "        \n",
        "        if sampled_word == 'end' or len(decoded_translation.split()) > 85:\n",
        "            stop_condition = True\n",
        "            \n",
        "        empty_target_seq = np.zeros( ( 1 , 1 ) )  \n",
        "        empty_target_seq[ 0 , 0 ] = sampled_word_index\n",
        "        states_values = [ h , c ] \n",
        "    if(decoded_translation[index] < 0.5)\n",
        "        print(\"I'm sorry, I don't know the answer to that question.\")\n",
        "    else:\n",
        "    print( decoded_translation[:-3] )"
      ]
    },
    {
      "cell_type": "code",
      "execution_count": 7,
      "metadata": {
        "id": "Cwyy_PuMEe02"
      },
      "outputs": [
        {
          "name": "stdout",
          "output_type": "stream",
          "text": [
            "Error: Please enter a question with words that are in the model's vocabulary.\n",
            " hello how can i help you today \n",
            "Error: Input is empty. Please enter a valid question.\n",
            "Error: Input is empty. Please enter a valid question.\n"
          ]
        }
      ],
      "source": [
        "\n",
        "enc_model , dec_model = make_inference_models()\n",
        "while True:\n",
        "    try:\n",
        "        user_input = input('Enter question: ')\n",
        "        user_input = re.sub(r'[^\\w\\s]', '', user_input)\n",
        "        if len(user_input.split()) < 1:\n",
        "            raise ValueError('Input is empty. Please enter a valid question.')\n",
        "        elif not all(word in tokenizer.word_index for word in user_input.split()):\n",
        "            raise ValueError(\"Please enter a question with words that are in the model's vocabulary.\")\n",
        "        else:\n",
        "            states_values = enc_model.predict(str_to_tokens(user_input), verbose=0)\n",
        "            empty_target_seq = np.zeros((1, 1))\n",
        "            empty_target_seq[0, 0] = tokenizer.word_index['start']\n",
        "            stop_condition = False\n",
        "            decoded_translation = ''\n",
        "            while not stop_condition:\n",
        "                dec_outputs, h, c = dec_model.predict([empty_target_seq] + states_values, verbose=0)\n",
        "                sampled_word_index = np.argmax(dec_outputs[0, -1, :])\n",
        "                sampled_word = None\n",
        "                for word, index in tokenizer.word_index.items():\n",
        "                    if sampled_word_index == index:\n",
        "                        decoded_translation += ' {}'.format(word)\n",
        "                        sampled_word = word\n",
        "\n",
        "                if sampled_word == 'end' or len(decoded_translation.split()) > 85:\n",
        "                    stop_condition = True\n",
        "\n",
        "                empty_target_seq = np.zeros((1, 1))\n",
        "                empty_target_seq[0, 0] = sampled_word_index\n",
        "                states_values = [h, c]\n",
        "\n",
        "            print(decoded_translation[:-3])\n",
        "    except ValueError as e:\n",
        "        print('Error:', e)\n",
        "        continue\n"
      ]
    },
    {
      "cell_type": "code",
      "execution_count": null,
      "metadata": {},
      "outputs": [],
      "source": []
    },
    {
      "cell_type": "code",
      "execution_count": null,
      "metadata": {},
      "outputs": [],
      "source": []
    }
  ],
  "metadata": {
    "colab": {
      "provenance": []
    },
    "kernelspec": {
      "display_name": "Python 3",
      "name": "python3"
    },
    "language_info": {
      "codemirror_mode": {
        "name": "ipython",
        "version": 3
      },
      "file_extension": ".py",
      "mimetype": "text/x-python",
      "name": "python",
      "nbconvert_exporter": "python",
      "pygments_lexer": "ipython3",
      "version": "3.9.16"
    }
  },
  "nbformat": 4,
  "nbformat_minor": 0
}
